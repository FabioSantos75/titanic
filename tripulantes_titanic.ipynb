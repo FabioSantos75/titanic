{
 "cells": [
  {
   "cell_type": "code",
   "execution_count": 2,
   "id": "97e8a209",
   "metadata": {},
   "outputs": [],
   "source": [
    "import pandas as pd"
   ]
  },
  {
   "cell_type": "code",
   "execution_count": 36,
   "id": "8ec8035b",
   "metadata": {},
   "outputs": [],
   "source": [
    "df = pd.read_csv(\"train.csv\")\n",
    "pd.set_option(\"display.max_rows\", 1000)"
   ]
  },
  {
   "cell_type": "code",
   "execution_count": 4,
   "id": "5df6facf",
   "metadata": {},
   "outputs": [
    {
     "data": {
      "text/html": [
       "<div>\n",
       "<style scoped>\n",
       "    .dataframe tbody tr th:only-of-type {\n",
       "        vertical-align: middle;\n",
       "    }\n",
       "\n",
       "    .dataframe tbody tr th {\n",
       "        vertical-align: top;\n",
       "    }\n",
       "\n",
       "    .dataframe thead th {\n",
       "        text-align: right;\n",
       "    }\n",
       "</style>\n",
       "<table border=\"1\" class=\"dataframe\">\n",
       "  <thead>\n",
       "    <tr style=\"text-align: right;\">\n",
       "      <th></th>\n",
       "      <th>PassengerId</th>\n",
       "      <th>Survived</th>\n",
       "      <th>Pclass</th>\n",
       "      <th>Name</th>\n",
       "      <th>Sex</th>\n",
       "      <th>Age</th>\n",
       "      <th>SibSp</th>\n",
       "      <th>Parch</th>\n",
       "      <th>Ticket</th>\n",
       "      <th>Fare</th>\n",
       "      <th>Cabin</th>\n",
       "      <th>Embarked</th>\n",
       "    </tr>\n",
       "  </thead>\n",
       "  <tbody>\n",
       "    <tr>\n",
       "      <th>0</th>\n",
       "      <td>1</td>\n",
       "      <td>0</td>\n",
       "      <td>3</td>\n",
       "      <td>Braund, Mr. Owen Harris</td>\n",
       "      <td>male</td>\n",
       "      <td>22.0</td>\n",
       "      <td>1</td>\n",
       "      <td>0</td>\n",
       "      <td>A/5 21171</td>\n",
       "      <td>7.2500</td>\n",
       "      <td>NaN</td>\n",
       "      <td>S</td>\n",
       "    </tr>\n",
       "    <tr>\n",
       "      <th>1</th>\n",
       "      <td>2</td>\n",
       "      <td>1</td>\n",
       "      <td>1</td>\n",
       "      <td>Cumings, Mrs. John Bradley (Florence Briggs Th...</td>\n",
       "      <td>female</td>\n",
       "      <td>38.0</td>\n",
       "      <td>1</td>\n",
       "      <td>0</td>\n",
       "      <td>PC 17599</td>\n",
       "      <td>71.2833</td>\n",
       "      <td>C85</td>\n",
       "      <td>C</td>\n",
       "    </tr>\n",
       "    <tr>\n",
       "      <th>2</th>\n",
       "      <td>3</td>\n",
       "      <td>1</td>\n",
       "      <td>3</td>\n",
       "      <td>Heikkinen, Miss. Laina</td>\n",
       "      <td>female</td>\n",
       "      <td>26.0</td>\n",
       "      <td>0</td>\n",
       "      <td>0</td>\n",
       "      <td>STON/O2. 3101282</td>\n",
       "      <td>7.9250</td>\n",
       "      <td>NaN</td>\n",
       "      <td>S</td>\n",
       "    </tr>\n",
       "    <tr>\n",
       "      <th>3</th>\n",
       "      <td>4</td>\n",
       "      <td>1</td>\n",
       "      <td>1</td>\n",
       "      <td>Futrelle, Mrs. Jacques Heath (Lily May Peel)</td>\n",
       "      <td>female</td>\n",
       "      <td>35.0</td>\n",
       "      <td>1</td>\n",
       "      <td>0</td>\n",
       "      <td>113803</td>\n",
       "      <td>53.1000</td>\n",
       "      <td>C123</td>\n",
       "      <td>S</td>\n",
       "    </tr>\n",
       "    <tr>\n",
       "      <th>4</th>\n",
       "      <td>5</td>\n",
       "      <td>0</td>\n",
       "      <td>3</td>\n",
       "      <td>Allen, Mr. William Henry</td>\n",
       "      <td>male</td>\n",
       "      <td>35.0</td>\n",
       "      <td>0</td>\n",
       "      <td>0</td>\n",
       "      <td>373450</td>\n",
       "      <td>8.0500</td>\n",
       "      <td>NaN</td>\n",
       "      <td>S</td>\n",
       "    </tr>\n",
       "  </tbody>\n",
       "</table>\n",
       "</div>"
      ],
      "text/plain": [
       "   PassengerId  Survived  Pclass  \\\n",
       "0            1         0       3   \n",
       "1            2         1       1   \n",
       "2            3         1       3   \n",
       "3            4         1       1   \n",
       "4            5         0       3   \n",
       "\n",
       "                                                Name     Sex   Age  SibSp  \\\n",
       "0                            Braund, Mr. Owen Harris    male  22.0      1   \n",
       "1  Cumings, Mrs. John Bradley (Florence Briggs Th...  female  38.0      1   \n",
       "2                             Heikkinen, Miss. Laina  female  26.0      0   \n",
       "3       Futrelle, Mrs. Jacques Heath (Lily May Peel)  female  35.0      1   \n",
       "4                           Allen, Mr. William Henry    male  35.0      0   \n",
       "\n",
       "   Parch            Ticket     Fare Cabin Embarked  \n",
       "0      0         A/5 21171   7.2500   NaN        S  \n",
       "1      0          PC 17599  71.2833   C85        C  \n",
       "2      0  STON/O2. 3101282   7.9250   NaN        S  \n",
       "3      0            113803  53.1000  C123        S  \n",
       "4      0            373450   8.0500   NaN        S  "
      ]
     },
     "execution_count": 4,
     "metadata": {},
     "output_type": "execute_result"
    }
   ],
   "source": [
    "df.head()"
   ]
  },
  {
   "cell_type": "code",
   "execution_count": 59,
   "id": "4d41c278",
   "metadata": {},
   "outputs": [
    {
     "name": "stdout",
     "output_type": "stream",
     "text": [
      "COLUNAS:\n",
      "PassengerId\n",
      "Survived\n",
      "Pclass\n",
      "Name\n",
      "Sex\n",
      "Age\n",
      "SibSp\n",
      "Parch\n",
      "Ticket\n",
      "Fare\n",
      "Cabin\n",
      "Embarked\n"
     ]
    }
   ],
   "source": [
    "print('COLUNAS:')\n",
    "df.columns\n",
    "for i in df.columns:\n",
    "    print(i)"
   ]
  },
  {
   "cell_type": "code",
   "execution_count": 60,
   "id": "772deef4",
   "metadata": {},
   "outputs": [
    {
     "name": "stdout",
     "output_type": "stream",
     "text": [
      "<class 'pandas.core.frame.DataFrame'>\n",
      "RangeIndex: 891 entries, 0 to 890\n",
      "Data columns (total 12 columns):\n",
      " #   Column       Non-Null Count  Dtype  \n",
      "---  ------       --------------  -----  \n",
      " 0   PassengerId  891 non-null    int64  \n",
      " 1   Survived     891 non-null    int64  \n",
      " 2   Pclass       891 non-null    int64  \n",
      " 3   Name         891 non-null    object \n",
      " 4   Sex          891 non-null    object \n",
      " 5   Age          714 non-null    float64\n",
      " 6   SibSp        891 non-null    int64  \n",
      " 7   Parch        891 non-null    int64  \n",
      " 8   Ticket       891 non-null    object \n",
      " 9   Fare         891 non-null    float64\n",
      " 10  Cabin        204 non-null    object \n",
      " 11  Embarked     889 non-null    object \n",
      "dtypes: float64(2), int64(5), object(5)\n",
      "memory usage: 83.7+ KB\n"
     ]
    }
   ],
   "source": [
    "df.info()"
   ]
  },
  {
   "cell_type": "markdown",
   "id": "46c40cc2",
   "metadata": {},
   "source": [
    "****QUANTIDADE DE PASSAGEIROS?****"
   ]
  },
  {
   "cell_type": "code",
   "execution_count": null,
   "id": "7a636809",
   "metadata": {},
   "outputs": [
    {
     "name": "stdout",
     "output_type": "stream",
     "text": [
      "TOTAL PASSAGEIROS: 891\n"
     ]
    }
   ],
   "source": [
    "qtd = df['Name'].count()\n",
    "print(f'TOTAL PASSAGEIROS: {qtd}')"
   ]
  },
  {
   "cell_type": "markdown",
   "id": "301566af",
   "metadata": {},
   "source": [
    "TAXA DE SOBREVIVENCIA"
   ]
  },
  {
   "cell_type": "code",
   "execution_count": 76,
   "id": "fb865833",
   "metadata": {},
   "outputs": [
    {
     "name": "stdout",
     "output_type": "stream",
     "text": [
      "Total de Passageiros: 891\n",
      "Total de Sobreviventes: 342\n",
      "Taxa de sobrevivência: 38%\n"
     ]
    }
   ],
   "source": [
    "import pandas as pd\n",
    "import matplotlib.pyplot as plt\n",
    "\n",
    "total = df['Name'].count()\n",
    "sobrev = df[df['Survived'] == 1].shape[0]\n",
    "mortos = total - sobrev\n",
    "taxa = round((sobrev / total) * 100)\n",
    "\n",
    "print(f'Total de Passageiros: {total}')\n",
    "print(f'Total de Sobreviventes: {sobrev}')\n",
    "print(f'Taxa de sobrevivência: {taxa}%')"
   ]
  },
  {
   "cell_type": "markdown",
   "id": "8e31c4ef",
   "metadata": {},
   "source": [
    "****QUANTIDADE POR SEXO?****"
   ]
  },
  {
   "cell_type": "code",
   "execution_count": 77,
   "id": "a5232483",
   "metadata": {},
   "outputs": [
    {
     "name": "stdout",
     "output_type": "stream",
     "text": [
      "PASSAGEIROS: 891\n",
      "------------------------------\n",
      "Masculino: 577\n",
      "64.76%\n",
      "Feminino: 314\n",
      "35.24%\n"
     ]
    }
   ],
   "source": [
    "tot = df['Sex'].count()\n",
    "masculino = df.query('Sex == \"male\"').shape[0] \n",
    "feminino = df.query('Sex == \"female\"').shape[0]\n",
    "\n",
    "taxam = round(((masculino / tot) * 100), 2)\n",
    "taxaf = round(((feminino / tot) * 100), 2)\n",
    "\n",
    "# Exibição\n",
    "print(f'PASSAGEIROS: {tot}')\n",
    "print('--'*15)\n",
    "print(f'Masculino: {masculino}')\n",
    "print(f'{taxam}%')\n",
    "print(f'Feminino: {feminino}')\n",
    "print(f'{taxaf}%')"
   ]
  },
  {
   "cell_type": "markdown",
   "id": "2fd63d1f",
   "metadata": {},
   "source": [
    "****ANÁLISES POR IDADE****"
   ]
  },
  {
   "cell_type": "code",
   "execution_count": 127,
   "id": "11b01d44",
   "metadata": {},
   "outputs": [
    {
     "name": "stdout",
     "output_type": "stream",
     "text": [
      "ANÁLISE POR IDADE\n",
      "Média: 29.7\n",
      "Mediana: 28.0\n",
      "Maior Idade: 80.0\n",
      "Menor Idade: 0.42  ~ 5 meses\n",
      "\n",
      "Média de Idade dos Homens: 30.73\n",
      "Média de Idade das Mulheres: 27.92\n"
     ]
    }
   ],
   "source": [
    "print(f'ANÁLISE POR IDADE')\n",
    "media_idade = round(df['Age'].mean(), 2)\n",
    "mediana = df['Age'].median()\n",
    "maior = df['Age'].max()\n",
    "menor = df['Age'].min()\n",
    "homens = df[df['Sex'] == 'male']['Age'].mean()\n",
    "mulheres = df[df['Sex'] == 'female']['Age'].mean()\n",
    "\n",
    "print(f'Média: {media_idade}')\n",
    "print(f'Mediana: {mediana}')\n",
    "print(f'Maior Idade: {maior}')\n",
    "print(f'Menor Idade: {menor}  ~ 5 meses')\n",
    "print()\n",
    "print(f'Média de Idade dos Homens: {round(homens, 2)}')\n",
    "print(f'Média de Idade das Mulheres: {round(mulheres, 2)}')"
   ]
  },
  {
   "cell_type": "markdown",
   "id": "975843a4",
   "metadata": {},
   "source": [
    "****SOBREVIVENTES X ÓBITOS****"
   ]
  },
  {
   "cell_type": "code",
   "execution_count": 82,
   "id": "b50af09d",
   "metadata": {},
   "outputs": [
    {
     "name": "stdout",
     "output_type": "stream",
     "text": [
      "RANKING DE MORTES POR IDADE\n"
     ]
    },
    {
     "data": {
      "text/plain": [
       "Age\n",
       "24.0    15\n",
       "36.0    11\n",
       "22.0    11\n",
       "27.0    11\n",
       "35.0    11\n",
       "30.0    10\n",
       "32.0     9\n",
       "18.0     9\n",
       "19.0     9\n",
       "31.0     8\n",
       "29.0     8\n",
       "28.0     7\n",
       "4.0      7\n",
       "40.0     6\n",
       "17.0     6\n",
       "25.0     6\n",
       "26.0     6\n",
       "48.0     6\n",
       "33.0     6\n",
       "34.0     6\n",
       "16.0     6\n",
       "42.0     6\n",
       "Name: Survived, dtype: int64"
      ]
     },
     "execution_count": 82,
     "metadata": {},
     "output_type": "execute_result"
    }
   ],
   "source": [
    "soma_sobreviventes = df.groupby('Age')['Survived'].sum()\n",
    "soma_sobreviventes_acima_zero = soma_sobreviventes[soma_sobreviventes > 0].sort_values(ascending=False)\n",
    "print('RANKING DE MORTES POR IDADE')\n",
    "soma_sobreviventes_acima_zero.head(22)"
   ]
  },
  {
   "cell_type": "code",
   "execution_count": 83,
   "id": "a1800f60",
   "metadata": {},
   "outputs": [
    {
     "name": "stdout",
     "output_type": "stream",
     "text": [
      "IDADES SEM MORTES\n"
     ]
    },
    {
     "data": {
      "text/plain": [
       "Age\n",
       "10.0    0\n",
       "14.5    0\n",
       "20.5    0\n",
       "23.5    0\n",
       "24.5    0\n",
       "28.5    0\n",
       "30.5    0\n",
       "34.5    0\n",
       "36.5    0\n",
       "40.5    0\n",
       "45.5    0\n",
       "46.0    0\n",
       "55.5    0\n",
       "57.0    0\n",
       "59.0    0\n",
       "61.0    0\n",
       "64.0    0\n",
       "65.0    0\n",
       "66.0    0\n",
       "70.0    0\n",
       "70.5    0\n",
       "71.0    0\n",
       "74.0    0\n",
       "Name: Survived, dtype: int64"
      ]
     },
     "execution_count": 83,
     "metadata": {},
     "output_type": "execute_result"
    }
   ],
   "source": [
    "soma_sobreviventes = df.groupby('Age')['Survived'].sum()\n",
    "soma_sobreviventes_acima_zero = soma_sobreviventes[soma_sobreviventes == 0].sort_values(ascending=False)\n",
    "print('IDADES SEM MORTES')\n",
    "soma_sobreviventes_acima_zero.head(45)\n"
   ]
  },
  {
   "cell_type": "code",
   "execution_count": 86,
   "id": "9be2afe6",
   "metadata": {
    "scrolled": true
   },
   "outputs": [
    {
     "name": "stdout",
     "output_type": "stream",
     "text": [
      "TOTAL DE PASSAGEIROS POR CLASSE\n"
     ]
    },
    {
     "data": {
      "text/plain": [
       "Pclass\n",
       "1    216\n",
       "2    184\n",
       "3    491\n",
       "Name: Pclass, dtype: int64"
      ]
     },
     "execution_count": 86,
     "metadata": {},
     "output_type": "execute_result"
    }
   ],
   "source": [
    "print( 'TOTAL DE PASSAGEIROS POR CLASSE')\n",
    "df.groupby('Pclass')['Pclass'].count()"
   ]
  },
  {
   "cell_type": "code",
   "execution_count": 85,
   "id": "2e912637",
   "metadata": {},
   "outputs": [
    {
     "name": "stdout",
     "output_type": "stream",
     "text": [
      "MORTES POR CLASSE\n"
     ]
    },
    {
     "data": {
      "text/plain": [
       "Pclass\n",
       "1     80\n",
       "2     97\n",
       "3    372\n",
       "Name: Survived, dtype: int64"
      ]
     },
     "execution_count": 85,
     "metadata": {},
     "output_type": "execute_result"
    }
   ],
   "source": [
    "print('MORTES POR CLASSE')\n",
    "nao_sobreviventes = df[df['Survived'] == 0]\n",
    "\n",
    "soma_nao_sobreviventes_por_classe = nao_sobreviventes.groupby('Pclass')['Survived'].count()\n",
    "\n",
    "soma_nao_sobreviventes_por_classe\n"
   ]
  },
  {
   "cell_type": "code",
   "execution_count": 87,
   "id": "e6c5e7c6",
   "metadata": {},
   "outputs": [
    {
     "name": "stdout",
     "output_type": "stream",
     "text": [
      "TAXA DE SOBREVIVÊNCIA POR CLASSE\n",
      "------------------------------\n",
      "Qtd de Sobreviventes: 342\n",
      "------------------------------\n",
      "Classe 1: 136 de 216 -- 62.96%\n",
      "Classe 2: 87 de 184 -- 47.28%\n",
      "Classe 3: 119 de 491 -- 24.24%\n"
     ]
    }
   ],
   "source": [
    "print('TAXA DE SOBREVIVÊNCIA POR CLASSE')\n",
    "\n",
    "tot = df[df['Survived'] == 1]['Pclass'].count()\n",
    "\n",
    "totclass1 = df[df['Pclass'] == 1].shape[0]\n",
    "class1 = df[(df['Pclass'] == 1) & (df['Survived'] == 1)].shape[0]\n",
    "\n",
    "totclass2 = df[df['Pclass'] == 2].shape[0]\n",
    "class2 = df[(df['Pclass'] == 2) & (df['Survived'] == 1)].shape[0]\n",
    "\n",
    "totclass3 = df[df['Pclass'] == 3].shape[0]\n",
    "class3 = df[(df['Pclass'] == 3) & (df['Survived'] == 1)].shape[0]\n",
    "\n",
    "taxa1 = round((class1 / totclass1) * 100, 2)\n",
    "taxa2 = round((class2 / totclass2) * 100, 2)\n",
    "taxa3 = round((class3 / totclass3) * 100, 2)  # Corrigido aqui\n",
    "\n",
    "print('--' * 15)\n",
    "print(f'Qtd de Sobreviventes: {tot}')\n",
    "print('--' * 15)\n",
    "print(f'Classe 1: {class1} de {totclass1} -- {taxa1}%')\n",
    "print(f'Classe 2: {class2} de {totclass2} -- {taxa2}%')\n",
    "print(f'Classe 3: {class3} de {totclass3} -- {taxa3}%')"
   ]
  },
  {
   "cell_type": "markdown",
   "id": "65820e10",
   "metadata": {},
   "source": [
    "CLASSES SOBREVIVENTES"
   ]
  },
  {
   "cell_type": "markdown",
   "id": "f5ce1957",
   "metadata": {},
   "source": [
    "CLASSE 01"
   ]
  },
  {
   "cell_type": "code",
   "execution_count": 88,
   "id": "579bc69d",
   "metadata": {},
   "outputs": [
    {
     "name": "stdout",
     "output_type": "stream",
     "text": [
      "CLASSE 1\n",
      "Total: 216\n",
      "QTD Mulheres: 94\n",
      "QTD Homens: 122\n",
      "------------------------------\n",
      "Sobreviventes: 136\n",
      "Mulheres: 91 -- 66.91%\n",
      "Homens: 45 -- 33.09%\n",
      "------------------------------\n"
     ]
    }
   ],
   "source": [
    "# Dados da 1ª classe já calculados\n",
    "total1 = df[(df['Pclass'] == 1) & (df['Survived'] == 1)].shape[0]\n",
    "total = df[df['Pclass'] == 1].shape[0]\n",
    "qtd_m = df[(df['Sex'] == 'female') & (df['Pclass'] == 1)].shape[0]\n",
    "qtd_h = df[(df['Sex'] == 'male') & (df['Pclass'] == 1)].shape[0]\n",
    "mulheres_1 = df[(df['Sex'] == 'female') & (df['Pclass'] == 1) & (df['Survived'] == 1)].shape[0]\n",
    "homens_1 = df[(df['Sex'] == 'male') & (df['Pclass'] == 1) & (df['Survived'] == 1)].shape[0]\n",
    "taxam = round(((mulheres_1 / total1) * 100), 2)\n",
    "taxah = round(((homens_1 / total1) * 100), 2)\n",
    "\n",
    "# Impressão\n",
    "print('CLASSE 1')\n",
    "print(f'Total: {total}')\n",
    "print(f'QTD Mulheres: {qtd_m}')\n",
    "print(f'QTD Homens: {qtd_h}')\n",
    "print('--'*15)\n",
    "print(f'Sobreviventes: {total1}')\n",
    "print(f'Mulheres: {mulheres_1} -- {taxam}%')\n",
    "print(f'Homens: {homens_1} -- {taxah}%')\n",
    "print('--'*15)"
   ]
  },
  {
   "cell_type": "code",
   "execution_count": 71,
   "id": "66985985",
   "metadata": {},
   "outputs": [
    {
     "name": "stdout",
     "output_type": "stream",
     "text": [
      "Média de idade do sexo feminino sobreviventes da classe 1:\n",
      "34.94\n"
     ]
    }
   ],
   "source": [
    "m_idade = round((df[(df['Sex'] == 'female') & (df['Survived'] == 1) & (df['Pclass'] == 1)]['Age'].mean()),2)\n",
    "\n",
    "print(f'Média de idade do sexo feminino sobreviventes da classe 1:\\n{m_idade}')\n",
    "\n"
   ]
  },
  {
   "cell_type": "markdown",
   "id": "f4fcacf0",
   "metadata": {},
   "source": [
    "CLASSE 02"
   ]
  },
  {
   "cell_type": "code",
   "execution_count": null,
   "id": "b9b73734",
   "metadata": {},
   "outputs": [
    {
     "name": "stdout",
     "output_type": "stream",
     "text": [
      "CLASSE 3\n",
      "Total: 491\n",
      "QTD Mulheres: 144\n",
      "QTD Homens: 347\n",
      "------------------------------\n",
      "Sobreviventes: 119\n",
      "Mulheres: 72 -- 60.5%\n",
      "Homens: 47 -- 39.5%\n",
      "------------------------------\n"
     ]
    }
   ],
   "source": [
    "# Dados já calculados para 3ª classe\n",
    "total1 = df[(df['Pclass'] == 3) & (df['Survived'] == 1)].shape[0]\n",
    "total = df[df['Pclass'] == 3].shape[0]\n",
    "qtd_m = df[(df['Sex'] == 'female') & (df['Pclass'] == 3)].shape[0]\n",
    "qtd_h = df[(df['Sex'] == 'male') & (df['Pclass'] == 3)].shape[0]\n",
    "mulheres_1 = df[(df['Sex'] == 'female') & (df['Pclass'] == 3) & (df['Survived'] == 1)].shape[0]\n",
    "homens_1 = df[(df['Sex'] == 'male') & (df['Pclass'] == 3) & (df['Survived'] == 1)].shape[0]\n",
    "taxam = round(((mulheres_1 / total1) * 100), 2)\n",
    "taxah = round(((homens_1 / total1) * 100), 2)\n",
    "\n",
    "# Impressão dos dados\n",
    "print('CLASSE 2')\n",
    "print(f'Total: {total}')\n",
    "print(f'QTD Mulheres: {qtd_m}')\n",
    "print(f'QTD Homens: {qtd_h}')\n",
    "print('--'*15)\n",
    "print(f'Sobreviventes: {total1}')\n",
    "print(f'Mulheres: {mulheres_1} -- {taxam}%')\n",
    "print(f'Homens: {homens_1} -- {taxah}%')\n",
    "print('--'*15)"
   ]
  },
  {
   "cell_type": "markdown",
   "id": "dbe0359f",
   "metadata": {},
   "source": [
    "CLASSE 03"
   ]
  },
  {
   "cell_type": "code",
   "execution_count": 90,
   "id": "62abd689",
   "metadata": {},
   "outputs": [
    {
     "name": "stdout",
     "output_type": "stream",
     "text": [
      "CLASSE 3\n",
      "Total: 491\n",
      "QTD Mulheres: 144\n",
      "QTD Homens: 347\n",
      "------------------------------\n",
      "Sobreviventes: 119\n",
      "Mulheres: 72 -- 60.5%\n",
      "Homens: 47 -- 39.5%\n",
      "------------------------------\n"
     ]
    }
   ],
   "source": [
    "# Dados da 3ª classe\n",
    "total1 = df[(df['Pclass'] == 3) & (df['Survived'] == 1)].shape[0]\n",
    "total = df[df['Pclass'] == 3].shape[0]\n",
    "qtd_m = df[(df['Sex'] == 'female') & (df['Pclass'] == 3)].shape[0]\n",
    "qtd_h = df[(df['Sex'] == 'male') & (df['Pclass'] == 3)].shape[0]\n",
    "mulheres_1 = df[(df['Sex'] == 'female') & (df['Pclass'] == 3) & (df['Survived'] == 1)].shape[0]\n",
    "homens_1 = df[(df['Sex'] == 'male') & (df['Pclass'] == 3) & (df['Survived'] == 1)].shape[0]\n",
    "taxam = round(((mulheres_1 / total1) * 100), 2)\n",
    "taxah = round(((homens_1 / total1) * 100), 2)\n",
    "\n",
    "print('CLASSE 3')\n",
    "print(f'Total: {total}')\n",
    "print(f'QTD Mulheres: {qtd_m}')\n",
    "print(f'QTD Homens: {qtd_h}')\n",
    "print('--'*15)\n",
    "print(f'Sobreviventes: {total1}')\n",
    "print(f'Mulheres: {mulheres_1} -- {taxam}%')\n",
    "print(f'Homens: {homens_1} -- {taxah}%')\n",
    "print('--'*15)"
   ]
  },
  {
   "cell_type": "code",
   "execution_count": 55,
   "id": "5fbd0548",
   "metadata": {},
   "outputs": [
    {
     "name": "stdout",
     "output_type": "stream",
     "text": [
      "Média de idade do sexo masculino morto da classe 3:\n",
      "27.26\n"
     ]
    }
   ],
   "source": [
    "m_idade = round((df[(df['Sex'] == 'male') & (df['Survived'] == 0) & (df['Pclass'] == 3)]['Age'].mean()),2)\n",
    "\n",
    "print(f'Média de idade do sexo masculino morto da classe 3:\\n{m_idade}')"
   ]
  },
  {
   "cell_type": "markdown",
   "id": "5fb1f0ed",
   "metadata": {},
   "source": [
    "**ANÁLISE DAS CABINES**"
   ]
  },
  {
   "cell_type": "code",
   "execution_count": 56,
   "id": "31ac263e",
   "metadata": {},
   "outputs": [
    {
     "name": "stdout",
     "output_type": "stream",
     "text": [
      "No Titanic tinham: 147 Cabines\n"
     ]
    }
   ],
   "source": [
    "qtd_cabin = df['Cabin'].nunique()\n",
    "print(f'No Titanic tinham: {qtd_cabin} Cabines')"
   ]
  },
  {
   "cell_type": "code",
   "execution_count": 29,
   "id": "64e57edd",
   "metadata": {},
   "outputs": [
    {
     "name": "stdout",
     "output_type": "stream",
     "text": [
      "CABINES COM MAIS PESSOAS:\n"
     ]
    },
    {
     "data": {
      "text/plain": [
       "Cabin\n",
       "G6                 4\n",
       "C23 C25 C27        4\n",
       "B96 B98            4\n",
       "F2                 3\n",
       "D                  3\n",
       "E101               3\n",
       "F33                3\n",
       "C22 C26            3\n",
       "B57 B59 B63 B66    2\n",
       "B77                2\n",
       "B58 B60            2\n",
       "B22                2\n",
       "B28                2\n",
       "B49                2\n",
       "B51 B53 B55        2\n",
       "B20                2\n",
       "B18                2\n",
       "C123               2\n",
       "C65                2\n",
       "D35                2\n",
       "D33                2\n",
       "D26                2\n",
       "D20                2\n",
       "E44                2\n",
       "E121               2\n",
       "Name: Cabin, dtype: int64"
      ]
     },
     "execution_count": 29,
     "metadata": {},
     "output_type": "execute_result"
    }
   ],
   "source": [
    "print('CABINES COM MAIS PESSOAS:')\n",
    "df.groupby('Cabin')['Cabin'].count().sort_values(ascending= False).head(25)\n"
   ]
  },
  {
   "cell_type": "code",
   "execution_count": 91,
   "id": "6f1ffe03",
   "metadata": {},
   "outputs": [
    {
     "name": "stdout",
     "output_type": "stream",
     "text": [
      "MORTES POR CABINE:\n",
      "Cabin\n",
      "C23 C25 C27    2\n",
      "C22 C26        2\n",
      "C124           2\n",
      "F G73          2\n",
      "G6             2\n",
      "D26            2\n",
      "A5             1\n",
      "A7             1\n",
      "B102           1\n",
      "B19            1\n",
      "B22            1\n",
      "A19            1\n",
      "A10            1\n",
      "A14            1\n",
      "B38            1\n",
      "B37            1\n",
      "B30            1\n",
      "B51 B53 B55    1\n",
      "B86            1\n",
      "B58 B60        1\n",
      "B71            1\n",
      "B82 B84        1\n",
      "C111           1\n",
      "C110           1\n",
      "B94            1\n",
      "Name: Cabin, dtype: int64\n"
     ]
    }
   ],
   "source": [
    "print('MORTES POR CABINE:')\n",
    "nao_sobreviventes = df[df['Survived'] == 0]\n",
    "\n",
    "contagem_nao_sobreviventes = nao_sobreviventes.groupby('Cabin')['Cabin'].count().sort_values(ascending=False).head(25)\n",
    "\n",
    "print(contagem_nao_sobreviventes)\n"
   ]
  },
  {
   "cell_type": "code",
   "execution_count": 57,
   "id": "00b66f34",
   "metadata": {},
   "outputs": [
    {
     "name": "stdout",
     "output_type": "stream",
     "text": [
      "Quantidade de cabines sem mortes: 85\n",
      "Taxa: 57.82%\n"
     ]
    }
   ],
   "source": [
    "cabines_sem_mortes = df.groupby('Cabin')['Survived'].all()\n",
    "qtd_cabin = df['Cabin'].nunique()\n",
    "\n",
    "cabines_sem_mortes = cabines_sem_mortes[cabines_sem_mortes].index\n",
    "\n",
    "qtd_cabines_sem_mortes = len(cabines_sem_mortes)\n",
    "taxa = round(((qtd_cabines_sem_mortes / qtd_cabin) * 100), 2)\n",
    "\n",
    "print(f'Quantidade de cabines sem mortes: {qtd_cabines_sem_mortes}')\n",
    "print(f'Taxa: {taxa}%')\n"
   ]
  },
  {
   "cell_type": "markdown",
   "id": "b3991e32",
   "metadata": {},
   "source": [
    "RESUMO\n",
    "CLASSE 1 com mais sobreviventes 62.96% dessa classe sobreviverem\n",
    "na mesma classe o sexo feminino foi superior, com 66.91% sobreviventes\n",
    "a média de idade entre as mulheres foi: 34.94\n",
    "\n",
    "MAIORES CHANCES DE SOBREVIVENCIA:\n",
    "CLASSE: 01\n",
    "SEXO: FEMININO\n",
    "IDADE: 34.94\n",
    "\n",
    "CHANCES DE MORTE ELEVADA:\n",
    "CLASSE: 03\n",
    "SEXO: MASCULINO\n",
    "IDADE: 27.26"
   ]
  },
  {
   "cell_type": "markdown",
   "id": "6b8c8c1f",
   "metadata": {},
   "source": [
    "**EMBARCAÇÃO**"
   ]
  },
  {
   "cell_type": "code",
   "execution_count": 92,
   "id": "fb45f87d",
   "metadata": {},
   "outputs": [
    {
     "name": "stdout",
     "output_type": "stream",
     "text": [
      "SOBREVIVENTES POR EMBARCAÇÃO:\n",
      "----------------------------------------\n",
      "C Sobreviventes: 93 de 168 -- 55.36%\n",
      "Q Sobreviventes: 30 de 77 -- 38.96%\n",
      "S Sobreviventes: 217 de 644 -- 33.7%\n"
     ]
    }
   ],
   "source": [
    "totc = df[df['Embarked'] == 'C'].shape[0]\n",
    "totq = df[df['Embarked'] == 'Q'].shape[0]\n",
    "tots = df[df['Embarked'] == 'S'].shape[0]\n",
    "\n",
    "c = df[(df['Embarked'] == 'C') & (df['Survived'] == 1)].shape[0]\n",
    "q = df[(df['Embarked'] == 'Q') & (df['Survived'] == 1)].shape[0]\n",
    "s = df[(df['Embarked'] == 'S') & (df['Survived'] == 1)].shape[0]\n",
    "\n",
    "taxac = round(((c / totc) * 100), 2)\n",
    "taxaq = round(((q / totq) * 100), 2)\n",
    "taxas = round(((s / tots) * 100), 2)\n",
    "\n",
    "print('SOBREVIVENTES POR EMBARCAÇÃO:')\n",
    "print('--'*20)\n",
    "print(f'C Sobreviventes: {c} de {totc} -- {taxac}%')\n",
    "print(f'Q Sobreviventes: {q} de {totq} -- {taxaq}%')\n",
    "print(f'S Sobreviventes: {s} de {tots} -- {taxas}%')"
   ]
  },
  {
   "cell_type": "code",
   "execution_count": 126,
   "id": "40f068fd",
   "metadata": {},
   "outputs": [
    {
     "name": "stdout",
     "output_type": "stream",
     "text": [
      "Porque a Classe C teve o Maior Número de Sobreviventes: 93\n",
      "Sobreviventes Classe 1 embarcados na C:\n",
      "59 -- 63.44%\n",
      "Sobreviventes Classe 2 embarcados na C:\n",
      "9 -- 9.68%\n",
      "Sobreviventes Classe 3 embarcados na C:\n",
      "25 -- 26.88%\n",
      "\n",
      "Valores médios das passagens dos sobreviventes em cada embarcação:\n",
      "Embacação C: 79.72\n",
      "Embacação Q: 13.18\n",
      "Embacação S: 39.55\n"
     ]
    }
   ],
   "source": [
    "totc = df[(df['Embarked'] == 'C') & df['Survived'] == 1].shape[0]\n",
    "\n",
    "# TOT POR CLASSES \n",
    "totclass1 = df[(df['Embarked'] == 'C') & (df['Pclass'] == 1) & df['Survived'] == 1].shape[0]\n",
    "totclass2 = df[(df['Embarked'] == 'C') & (df['Pclass'] == 2) & df['Survived'] == 1].shape[0]\n",
    "totclass3 = df[(df['Embarked'] == 'C') & (df['Pclass'] == 3) & df['Survived'] == 1].shape[0]\n",
    "\n",
    "totc_valor = round(df[(df['Embarked'] == 'C') & df['Survived'] == 1]['Fare'].mean(), 2)\n",
    "totq_valor = round(df[(df['Embarked'] == 'Q') & df['Survived'] == 1]['Fare'].mean(), 2)\n",
    "tots_valor = round(df[(df['Embarked'] == 'S') & df['Survived'] == 1]['Fare'].mean(), 2)\n",
    "\n",
    "#PORCENTAGENS\n",
    "class1 = round((totclass1 * 100 / totc), 2) \n",
    "class2 = round((totclass2 * 100 / totc), 2)  \n",
    "class3 = round((totclass3 * 100 / totc), 2) \n",
    "\n",
    "print(f'Porque a Classe C teve o Maior Número de Sobreviventes: {totc}')\n",
    "print(f'Sobreviventes Classe 1 embarcados na C:\\n{totclass1} -- {class1}%')\n",
    "print(f'Sobreviventes Classe 2 embarcados na C:\\n{totclass2} -- {class2}%')\n",
    "print(f'Sobreviventes Classe 3 embarcados na C:\\n{totclass3} -- {class3}%')\n",
    "print()\n",
    "print('Valores médios das passagens dos sobreviventes em cada embarcação:')\n",
    "print(f'Embacação C: {totc_valor}')\n",
    "print(f'Embacação Q: {totq_valor}')\n",
    "print(f'Embacação S: {tots_valor}')"
   ]
  },
  {
   "cell_type": "markdown",
   "id": "70c1f581",
   "metadata": {},
   "source": [
    "SERÁ QUE O VALOR PAGO NA PASSAGEM TEVE RELAÇÃO COM A TAXA DE SOBREVIVÊNCIA?"
   ]
  },
  {
   "cell_type": "code",
   "execution_count": 93,
   "id": "1c32292b",
   "metadata": {},
   "outputs": [
    {
     "name": "stdout",
     "output_type": "stream",
     "text": [
      "Sobreviventes: 342\n",
      "--------------------------------------------------\n",
      "Qtd sobreviventes que pagaram valor acima da mediana: 231 de 342 --- 67.54%\n",
      "Qtd sobrevientes que pagaram valor abaixo da mediana: 111 de 342 --- 32.46%\n",
      "--------------------------------------------------\n",
      "Médiana do valor das passagens: 14.45\n",
      "Classe1 média paga:  84.15\n",
      "Classe2 média paga:  20.66\n",
      "Classe3 média paga:  13.68\n",
      "--------------------------------------------------\n",
      "Valor Máximo: 512.3292\n",
      "Valor Mínimo: 0.0\n",
      "--------------------------------------------------\n",
      "QTD de sobreviventes entre as pessoas que não pagaram nada:\n",
      "1 de 15 --- 6.67%\n",
      "QTD de sobreviventes entre as 15 pessoas que pagaram o valor máximo:\n",
      "11 de 15 --- 73.33%\n"
     ]
    }
   ],
   "source": [
    "media = round(df['Fare'].median(), 2)\n",
    "sobreviventes = df[df['Survived'] == 1].shape[0]\n",
    "\n",
    "valor_1 = round(df[df['Pclass'] == 1]['Fare'].mean(), 2)\n",
    "valor_2 = round(df[df['Pclass'] == 2]['Fare'].mean(), 2)\n",
    "valor_3 = round(df[df['Pclass'] == 3]['Fare'].mean(), 2)\n",
    "\n",
    "acima_media = df[(df['Fare'] > media) & (df['Survived'] == 1)].shape[0]\n",
    "abaixo_media = df[(df['Fare'] < media) & (df['Survived'] == 1)].shape[0]\n",
    "\n",
    "taxa_acima = round((acima_media / sobreviventes) * 100, 2)\n",
    "taxa_abaixo = round((abaixo_media / sobreviventes) * 100, 2)\n",
    "\n",
    "maximo = df['Fare'].max()\n",
    "minimo = df['Fare'].min()\n",
    "\n",
    "print(f'Sobreviventes: {sobreviventes}')\n",
    "print('--'*25)\n",
    "print(f'Qtd sobreviventes que pagaram valor acima da mediana: {acima_media} de {sobreviventes} --- {taxa_acima}%')\n",
    "print(f'Qtd sobrevientes que pagaram valor abaixo da mediana: {abaixo_media} de {sobreviventes} --- {taxa_abaixo}%')\n",
    "print('--'*25)\n",
    "print(f'Médiana do valor das passagens: {media}')\n",
    "print(f'Classe1 média paga:  {valor_1}')\n",
    "print(f'Classe2 média paga:  {valor_2}')\n",
    "print(f'Classe3 média paga:  {valor_3}')\n",
    "\n",
    "print('--'*25)\n",
    "print(f'Valor Máximo: {maximo}')\n",
    "print(f'Valor Mínimo: {minimo}')\n",
    "print('--'*25)\n",
    "\n",
    "qtd_minimo = df[df['Fare'] <= 0].shape[0]\n",
    "minimo = df[(df['Survived'] == 1) & (df['Fare'] == minimo)].shape[0]\n",
    "taxa_minimo = round((minimo / qtd_minimo)* 100, 2)\n",
    "\n",
    "qtd_maximo = df[df['Fare'] >= 227.5250].shape[0]\n",
    "quinze_maximo = df[(df['Survived'] == 1) & (df['Fare'] >= 227.5250)].shape[0]\n",
    "taxa_maximo = round((quinze_maximo / qtd_maximo)* 100, 2)\n",
    "\n",
    "print(f'QTD de sobreviventes entre as pessoas que não pagaram nada:\\n{minimo} de {qtd_minimo} --- {taxa_minimo}%')\n",
    "print(f'QTD de sobreviventes entre as 15 pessoas que pagaram o valor máximo:\\n{quinze_maximo} de {qtd_maximo} --- {taxa_maximo}%')\n"
   ]
  },
  {
   "cell_type": "markdown",
   "id": "4c1afc3b",
   "metadata": {},
   "source": [
    "A PRIORIDADE DE SALVAMENTO NO ACIDENTE DO TITANIC \n",
    "FOI PESSOAS DA CLASSE 1, QUANTO MAIOR O VALOR PAGO MAIS CHANCES \n",
    "DE SOBREVIVER.\n",
    "MULHERES DE MEIA IDADE DA CLASSE 1 TAMBÉM TIVERAM UM BOM PERCENTUAL DE SOBREVIVÊNCIA."
   ]
  }
 ],
 "metadata": {
  "kernelspec": {
   "display_name": "base",
   "language": "python",
   "name": "python3"
  },
  "language_info": {
   "codemirror_mode": {
    "name": "ipython",
    "version": 3
   },
   "file_extension": ".py",
   "mimetype": "text/x-python",
   "name": "python",
   "nbconvert_exporter": "python",
   "pygments_lexer": "ipython3",
   "version": "3.12.7"
  }
 },
 "nbformat": 4,
 "nbformat_minor": 5
}
